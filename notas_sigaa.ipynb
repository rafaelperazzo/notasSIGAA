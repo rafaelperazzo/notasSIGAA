{
 "cells": [
  {
   "cell_type": "code",
   "execution_count": 288,
   "outputs": [],
   "source": [
    "import pandas as pd\n",
    "from sklearn.cluster import KMeans\n",
    "from sklearn import preprocessing\n",
    "import pylab as plt"
   ],
   "metadata": {
    "collapsed": false,
    "pycharm": {
     "name": "#%%\n"
    }
   }
  },
  {
   "cell_type": "code",
   "execution_count": 289,
   "outputs": [
    {
     "data": {
      "text/plain": "        noise   matricula  id_turma  \\\n0         500  2635915545       438   \n1         443  2188096962       447   \n2         485  2084846937       440   \n3         404  1773301533       442   \n4         453  2098470832       446   \n...       ...         ...       ...   \n354896  11203  2536402992     17580   \n354897  11374  2567259177     18020   \n354898  12356  1792060888     18019   \n354899  12588  2273057259     18018   \n354900  11063  1459336115     18017   \n\n                                                     nome    siape  \\\n0                        ELABORAÇÃO DE PROJETOS CULTURAIS  1314589   \n1                      METODOLOGIA DO TRABALHO CIENTÍFICO  2485385   \n2                         ESTUDO DE MERCADO INFORMACIONAL  2687965   \n3                      FUNDAMENTOS TEÓRICOS DA INFORMAÇÃO  2960275   \n4       MEMÓRIA ORGANIZACIONAL: ASPECTOS TÉCNICOS E PR...  1862817   \n...                                                   ...      ...   \n354896              ESTUDOS SOCIOLÓGICOS E ANTROPOLÓGICOS  1280285   \n354897                             INTRODUCAO A FILOSOFIA  1526217   \n354898                            ANTROPOLOGIA FILOSOFICA  1742202   \n354899                                           LOGICA I  1271204   \n354900                   LEITURA DE TEXTOS PRE-SOCRATICOS  1125746   \n\n                      concat  id_situacao_matricula descricao  media_final  \n0          Refugio Schneider                      4  APROVADO          8.0  \n1             Ammon Schmeler                      4  APROVADO         10.0  \n2              Silvia Willms                      4  APROVADO          9.5  \n3              Silvia Willms                      4  APROVADO          9.5  \n4                Kalie Bosco                      4  APROVADO          8.5  \n...                      ...                    ...       ...          ...  \n354896           Gena Nienow                      4  APROVADO          8.8  \n354897        Allena Pacocha                      4  APROVADO          9.5  \n354898          Aiyana Brown                      4  APROVADO         10.0  \n354899          Melinda Jast                      4  APROVADO          7.0  \n354900  Mordechai Bartoletti                      4  APROVADO         10.0  \n\n[354901 rows x 9 columns]",
      "text/html": "<div>\n<style scoped>\n    .dataframe tbody tr th:only-of-type {\n        vertical-align: middle;\n    }\n\n    .dataframe tbody tr th {\n        vertical-align: top;\n    }\n\n    .dataframe thead th {\n        text-align: right;\n    }\n</style>\n<table border=\"1\" class=\"dataframe\">\n  <thead>\n    <tr style=\"text-align: right;\">\n      <th></th>\n      <th>noise</th>\n      <th>matricula</th>\n      <th>id_turma</th>\n      <th>nome</th>\n      <th>siape</th>\n      <th>concat</th>\n      <th>id_situacao_matricula</th>\n      <th>descricao</th>\n      <th>media_final</th>\n    </tr>\n  </thead>\n  <tbody>\n    <tr>\n      <th>0</th>\n      <td>500</td>\n      <td>2635915545</td>\n      <td>438</td>\n      <td>ELABORAÇÃO DE PROJETOS CULTURAIS</td>\n      <td>1314589</td>\n      <td>Refugio Schneider</td>\n      <td>4</td>\n      <td>APROVADO</td>\n      <td>8.0</td>\n    </tr>\n    <tr>\n      <th>1</th>\n      <td>443</td>\n      <td>2188096962</td>\n      <td>447</td>\n      <td>METODOLOGIA DO TRABALHO CIENTÍFICO</td>\n      <td>2485385</td>\n      <td>Ammon Schmeler</td>\n      <td>4</td>\n      <td>APROVADO</td>\n      <td>10.0</td>\n    </tr>\n    <tr>\n      <th>2</th>\n      <td>485</td>\n      <td>2084846937</td>\n      <td>440</td>\n      <td>ESTUDO DE MERCADO INFORMACIONAL</td>\n      <td>2687965</td>\n      <td>Silvia Willms</td>\n      <td>4</td>\n      <td>APROVADO</td>\n      <td>9.5</td>\n    </tr>\n    <tr>\n      <th>3</th>\n      <td>404</td>\n      <td>1773301533</td>\n      <td>442</td>\n      <td>FUNDAMENTOS TEÓRICOS DA INFORMAÇÃO</td>\n      <td>2960275</td>\n      <td>Silvia Willms</td>\n      <td>4</td>\n      <td>APROVADO</td>\n      <td>9.5</td>\n    </tr>\n    <tr>\n      <th>4</th>\n      <td>453</td>\n      <td>2098470832</td>\n      <td>446</td>\n      <td>MEMÓRIA ORGANIZACIONAL: ASPECTOS TÉCNICOS E PR...</td>\n      <td>1862817</td>\n      <td>Kalie Bosco</td>\n      <td>4</td>\n      <td>APROVADO</td>\n      <td>8.5</td>\n    </tr>\n    <tr>\n      <th>...</th>\n      <td>...</td>\n      <td>...</td>\n      <td>...</td>\n      <td>...</td>\n      <td>...</td>\n      <td>...</td>\n      <td>...</td>\n      <td>...</td>\n      <td>...</td>\n    </tr>\n    <tr>\n      <th>354896</th>\n      <td>11203</td>\n      <td>2536402992</td>\n      <td>17580</td>\n      <td>ESTUDOS SOCIOLÓGICOS E ANTROPOLÓGICOS</td>\n      <td>1280285</td>\n      <td>Gena Nienow</td>\n      <td>4</td>\n      <td>APROVADO</td>\n      <td>8.8</td>\n    </tr>\n    <tr>\n      <th>354897</th>\n      <td>11374</td>\n      <td>2567259177</td>\n      <td>18020</td>\n      <td>INTRODUCAO A FILOSOFIA</td>\n      <td>1526217</td>\n      <td>Allena Pacocha</td>\n      <td>4</td>\n      <td>APROVADO</td>\n      <td>9.5</td>\n    </tr>\n    <tr>\n      <th>354898</th>\n      <td>12356</td>\n      <td>1792060888</td>\n      <td>18019</td>\n      <td>ANTROPOLOGIA FILOSOFICA</td>\n      <td>1742202</td>\n      <td>Aiyana Brown</td>\n      <td>4</td>\n      <td>APROVADO</td>\n      <td>10.0</td>\n    </tr>\n    <tr>\n      <th>354899</th>\n      <td>12588</td>\n      <td>2273057259</td>\n      <td>18018</td>\n      <td>LOGICA I</td>\n      <td>1271204</td>\n      <td>Melinda Jast</td>\n      <td>4</td>\n      <td>APROVADO</td>\n      <td>7.0</td>\n    </tr>\n    <tr>\n      <th>354900</th>\n      <td>11063</td>\n      <td>1459336115</td>\n      <td>18017</td>\n      <td>LEITURA DE TEXTOS PRE-SOCRATICOS</td>\n      <td>1125746</td>\n      <td>Mordechai Bartoletti</td>\n      <td>4</td>\n      <td>APROVADO</td>\n      <td>10.0</td>\n    </tr>\n  </tbody>\n</table>\n<p>354901 rows × 9 columns</p>\n</div>"
     },
     "execution_count": 289,
     "metadata": {},
     "output_type": "execute_result"
    }
   ],
   "source": [
    "df = pd.read_csv('notas.csv',sep=';')\n",
    "df"
   ],
   "metadata": {
    "collapsed": false,
    "pycharm": {
     "name": "#%%\n"
    }
   }
  },
  {
   "cell_type": "code",
   "execution_count": 290,
   "outputs": [
    {
     "data": {
      "text/plain": "array(['APROVADO', 'REPROVADO', 'REPROVADO POR MÉDIA E POR FALTAS',\n       'REPROVADO POR FALTAS'], dtype=object)"
     },
     "execution_count": 290,
     "metadata": {},
     "output_type": "execute_result"
    }
   ],
   "source": [
    "df.descricao.unique()"
   ],
   "metadata": {
    "collapsed": false,
    "pycharm": {
     "name": "#%%\n"
    }
   }
  },
  {
   "cell_type": "code",
   "execution_count": 291,
   "outputs": [
    {
     "data": {
      "text/plain": "array(['APROVADO', 'REPROVADO', 'REPROVADO POR MÉDIA E POR FALTAS',\n       'REPROVADO POR FALTAS'], dtype=object)"
     },
     "execution_count": 291,
     "metadata": {},
     "output_type": "execute_result"
    }
   ],
   "source": [
    "leFe = preprocessing.LabelEncoder()\n",
    "leFe.fit(df['concat'])\n",
    "leFe.transform(df['concat'])\n",
    "df['concat'] = leFe.transform(df['concat'])\n",
    "leFeD = preprocessing.LabelEncoder()\n",
    "leFeD.fit(df['descricao'])\n",
    "leFeD.transform(df['descricao'])\n",
    "df['descricao'] = leFeD.transform(df['descricao'])\n",
    "leFeD.inverse_transform(df['descricao'].unique())"
   ],
   "metadata": {
    "collapsed": false,
    "pycharm": {
     "name": "#%%\n"
    }
   }
  },
  {
   "cell_type": "code",
   "execution_count": 292,
   "outputs": [],
   "source": [
    "X = df[[\"concat\", \"media_final\",\"descricao\"]]\n"
   ],
   "metadata": {
    "collapsed": false,
    "pycharm": {
     "name": "#%%\n"
    }
   }
  },
  {
   "cell_type": "code",
   "execution_count": 293,
   "outputs": [
    {
     "data": {
      "text/plain": "        concat  media_final  descricao\n0          479          8.0          0\n1           24         10.0          0\n2          522          9.5          0\n3          522          9.5          0\n4          312          8.5          0\n...        ...          ...        ...\n354896     209          8.8          0\n354897      15          9.5          0\n354898      10         10.0          0\n354899     405          7.0          0\n354900     421         10.0          0\n\n[354901 rows x 3 columns]",
      "text/html": "<div>\n<style scoped>\n    .dataframe tbody tr th:only-of-type {\n        vertical-align: middle;\n    }\n\n    .dataframe tbody tr th {\n        vertical-align: top;\n    }\n\n    .dataframe thead th {\n        text-align: right;\n    }\n</style>\n<table border=\"1\" class=\"dataframe\">\n  <thead>\n    <tr style=\"text-align: right;\">\n      <th></th>\n      <th>concat</th>\n      <th>media_final</th>\n      <th>descricao</th>\n    </tr>\n  </thead>\n  <tbody>\n    <tr>\n      <th>0</th>\n      <td>479</td>\n      <td>8.0</td>\n      <td>0</td>\n    </tr>\n    <tr>\n      <th>1</th>\n      <td>24</td>\n      <td>10.0</td>\n      <td>0</td>\n    </tr>\n    <tr>\n      <th>2</th>\n      <td>522</td>\n      <td>9.5</td>\n      <td>0</td>\n    </tr>\n    <tr>\n      <th>3</th>\n      <td>522</td>\n      <td>9.5</td>\n      <td>0</td>\n    </tr>\n    <tr>\n      <th>4</th>\n      <td>312</td>\n      <td>8.5</td>\n      <td>0</td>\n    </tr>\n    <tr>\n      <th>...</th>\n      <td>...</td>\n      <td>...</td>\n      <td>...</td>\n    </tr>\n    <tr>\n      <th>354896</th>\n      <td>209</td>\n      <td>8.8</td>\n      <td>0</td>\n    </tr>\n    <tr>\n      <th>354897</th>\n      <td>15</td>\n      <td>9.5</td>\n      <td>0</td>\n    </tr>\n    <tr>\n      <th>354898</th>\n      <td>10</td>\n      <td>10.0</td>\n      <td>0</td>\n    </tr>\n    <tr>\n      <th>354899</th>\n      <td>405</td>\n      <td>7.0</td>\n      <td>0</td>\n    </tr>\n    <tr>\n      <th>354900</th>\n      <td>421</td>\n      <td>10.0</td>\n      <td>0</td>\n    </tr>\n  </tbody>\n</table>\n<p>354901 rows × 3 columns</p>\n</div>"
     },
     "execution_count": 293,
     "metadata": {},
     "output_type": "execute_result"
    }
   ],
   "source": [
    "X = X.fillna(0).copy()\n",
    "X"
   ],
   "metadata": {
    "collapsed": false,
    "pycharm": {
     "name": "#%%\n"
    }
   }
  },
  {
   "cell_type": "code",
   "execution_count": 294,
   "outputs": [],
   "source": [
    "kmeans = KMeans(n_clusters=2, init='random').fit(X)"
   ],
   "metadata": {
    "collapsed": false,
    "pycharm": {
     "name": "#%%\n"
    }
   }
  },
  {
   "cell_type": "code",
   "execution_count": 295,
   "outputs": [
    {
     "data": {
      "text/plain": "1    183050\n0    171851\ndtype: int64"
     },
     "execution_count": 295,
     "metadata": {},
     "output_type": "execute_result"
    }
   ],
   "source": [
    "s = pd.Series(kmeans.labels_)\n",
    "s.value_counts()\n"
   ],
   "metadata": {
    "collapsed": false,
    "pycharm": {
     "name": "#%%\n"
    }
   }
  },
  {
   "cell_type": "code",
   "execution_count": 296,
   "outputs": [
    {
     "data": {
      "text/plain": "                      concat  media_final  descricao  resposta\n0          Refugio Schneider          8.0          0         1\n1             Ammon Schmeler         10.0          0         0\n2              Silvia Willms          9.5          0         1\n3              Silvia Willms          9.5          0         1\n4                Kalie Bosco          8.5          0         1\n...                      ...          ...        ...       ...\n354896           Gena Nienow          8.8          0         0\n354897        Allena Pacocha          9.5          0         0\n354898          Aiyana Brown         10.0          0         0\n354899          Melinda Jast          7.0          0         1\n354900  Mordechai Bartoletti         10.0          0         1\n\n[354901 rows x 4 columns]",
      "text/html": "<div>\n<style scoped>\n    .dataframe tbody tr th:only-of-type {\n        vertical-align: middle;\n    }\n\n    .dataframe tbody tr th {\n        vertical-align: top;\n    }\n\n    .dataframe thead th {\n        text-align: right;\n    }\n</style>\n<table border=\"1\" class=\"dataframe\">\n  <thead>\n    <tr style=\"text-align: right;\">\n      <th></th>\n      <th>concat</th>\n      <th>media_final</th>\n      <th>descricao</th>\n      <th>resposta</th>\n    </tr>\n  </thead>\n  <tbody>\n    <tr>\n      <th>0</th>\n      <td>Refugio Schneider</td>\n      <td>8.0</td>\n      <td>0</td>\n      <td>1</td>\n    </tr>\n    <tr>\n      <th>1</th>\n      <td>Ammon Schmeler</td>\n      <td>10.0</td>\n      <td>0</td>\n      <td>0</td>\n    </tr>\n    <tr>\n      <th>2</th>\n      <td>Silvia Willms</td>\n      <td>9.5</td>\n      <td>0</td>\n      <td>1</td>\n    </tr>\n    <tr>\n      <th>3</th>\n      <td>Silvia Willms</td>\n      <td>9.5</td>\n      <td>0</td>\n      <td>1</td>\n    </tr>\n    <tr>\n      <th>4</th>\n      <td>Kalie Bosco</td>\n      <td>8.5</td>\n      <td>0</td>\n      <td>1</td>\n    </tr>\n    <tr>\n      <th>...</th>\n      <td>...</td>\n      <td>...</td>\n      <td>...</td>\n      <td>...</td>\n    </tr>\n    <tr>\n      <th>354896</th>\n      <td>Gena Nienow</td>\n      <td>8.8</td>\n      <td>0</td>\n      <td>0</td>\n    </tr>\n    <tr>\n      <th>354897</th>\n      <td>Allena Pacocha</td>\n      <td>9.5</td>\n      <td>0</td>\n      <td>0</td>\n    </tr>\n    <tr>\n      <th>354898</th>\n      <td>Aiyana Brown</td>\n      <td>10.0</td>\n      <td>0</td>\n      <td>0</td>\n    </tr>\n    <tr>\n      <th>354899</th>\n      <td>Melinda Jast</td>\n      <td>7.0</td>\n      <td>0</td>\n      <td>1</td>\n    </tr>\n    <tr>\n      <th>354900</th>\n      <td>Mordechai Bartoletti</td>\n      <td>10.0</td>\n      <td>0</td>\n      <td>1</td>\n    </tr>\n  </tbody>\n</table>\n<p>354901 rows × 4 columns</p>\n</div>"
     },
     "execution_count": 296,
     "metadata": {},
     "output_type": "execute_result"
    }
   ],
   "source": [
    "X[\"resposta\"] = s\n",
    "X.concat = leFe.inverse_transform(X.concat)\n",
    "#X.descricao = leFeD.inverse_transform(X.descricao)\n",
    "X"
   ],
   "metadata": {
    "collapsed": false,
    "pycharm": {
     "name": "#%%\n"
    }
   }
  },
  {
   "cell_type": "code",
   "execution_count": 297,
   "outputs": [
    {
     "data": {
      "text/plain": "Empty DataFrame\nColumns: [concat, media_final, descricao, resposta]\nIndex: []",
      "text/html": "<div>\n<style scoped>\n    .dataframe tbody tr th:only-of-type {\n        vertical-align: middle;\n    }\n\n    .dataframe tbody tr th {\n        vertical-align: top;\n    }\n\n    .dataframe thead th {\n        text-align: right;\n    }\n</style>\n<table border=\"1\" class=\"dataframe\">\n  <thead>\n    <tr style=\"text-align: right;\">\n      <th></th>\n      <th>concat</th>\n      <th>media_final</th>\n      <th>descricao</th>\n      <th>resposta</th>\n    </tr>\n  </thead>\n  <tbody>\n  </tbody>\n</table>\n</div>"
     },
     "execution_count": 297,
     "metadata": {},
     "output_type": "execute_result"
    }
   ],
   "source": [
    "X.query(\"concat==4\")"
   ],
   "metadata": {
    "collapsed": false,
    "pycharm": {
     "name": "#%%\n"
    }
   }
  },
  {
   "cell_type": "code",
   "execution_count": 298,
   "outputs": [],
   "source": [
    "agrupados = X.groupby(['concat']).mean()\n",
    "agrupados.reset_index(inplace=True)"
   ],
   "metadata": {
    "collapsed": false,
    "pycharm": {
     "name": "#%%\n"
    }
   }
  },
  {
   "cell_type": "code",
   "execution_count": 299,
   "outputs": [
    {
     "data": {
      "text/plain": "                  concat  media_final  descricao  resposta\n295           Jon Walker     8.193673   0.090784         1\n296          Jonah Terry     8.258490   0.011236         1\n299      Josefita Hessel     8.586232   0.028986         1\n301        Joslyn Schumm     8.580342   0.051282         1\n302      Jovanny Gutmann     7.705596   0.215328         1\n..                   ...          ...        ...       ...\n577            Yoel Mann     7.606103   0.045845         1\n578          Young Fahey     7.386353   0.217391         1\n579  Yvette Pfannerstill     7.610274   0.383562         1\n580      Yvette Thompson     7.700000   0.064401         1\n581         Yvonne Johns     7.575000   0.050000         1\n\n[226 rows x 4 columns]",
      "text/html": "<div>\n<style scoped>\n    .dataframe tbody tr th:only-of-type {\n        vertical-align: middle;\n    }\n\n    .dataframe tbody tr th {\n        vertical-align: top;\n    }\n\n    .dataframe thead th {\n        text-align: right;\n    }\n</style>\n<table border=\"1\" class=\"dataframe\">\n  <thead>\n    <tr style=\"text-align: right;\">\n      <th></th>\n      <th>concat</th>\n      <th>media_final</th>\n      <th>descricao</th>\n      <th>resposta</th>\n    </tr>\n  </thead>\n  <tbody>\n    <tr>\n      <th>295</th>\n      <td>Jon Walker</td>\n      <td>8.193673</td>\n      <td>0.090784</td>\n      <td>1</td>\n    </tr>\n    <tr>\n      <th>296</th>\n      <td>Jonah Terry</td>\n      <td>8.258490</td>\n      <td>0.011236</td>\n      <td>1</td>\n    </tr>\n    <tr>\n      <th>299</th>\n      <td>Josefita Hessel</td>\n      <td>8.586232</td>\n      <td>0.028986</td>\n      <td>1</td>\n    </tr>\n    <tr>\n      <th>301</th>\n      <td>Joslyn Schumm</td>\n      <td>8.580342</td>\n      <td>0.051282</td>\n      <td>1</td>\n    </tr>\n    <tr>\n      <th>302</th>\n      <td>Jovanny Gutmann</td>\n      <td>7.705596</td>\n      <td>0.215328</td>\n      <td>1</td>\n    </tr>\n    <tr>\n      <th>...</th>\n      <td>...</td>\n      <td>...</td>\n      <td>...</td>\n      <td>...</td>\n    </tr>\n    <tr>\n      <th>577</th>\n      <td>Yoel Mann</td>\n      <td>7.606103</td>\n      <td>0.045845</td>\n      <td>1</td>\n    </tr>\n    <tr>\n      <th>578</th>\n      <td>Young Fahey</td>\n      <td>7.386353</td>\n      <td>0.217391</td>\n      <td>1</td>\n    </tr>\n    <tr>\n      <th>579</th>\n      <td>Yvette Pfannerstill</td>\n      <td>7.610274</td>\n      <td>0.383562</td>\n      <td>1</td>\n    </tr>\n    <tr>\n      <th>580</th>\n      <td>Yvette Thompson</td>\n      <td>7.700000</td>\n      <td>0.064401</td>\n      <td>1</td>\n    </tr>\n    <tr>\n      <th>581</th>\n      <td>Yvonne Johns</td>\n      <td>7.575000</td>\n      <td>0.050000</td>\n      <td>1</td>\n    </tr>\n  </tbody>\n</table>\n<p>226 rows × 4 columns</p>\n</div>"
     },
     "execution_count": 299,
     "metadata": {},
     "output_type": "execute_result"
    }
   ],
   "source": [
    "agrupados.query(\"resposta==1 and media_final>7\")"
   ],
   "metadata": {
    "collapsed": false,
    "pycharm": {
     "name": "#%%\n"
    }
   }
  },
  {
   "cell_type": "code",
   "execution_count": 300,
   "outputs": [
    {
     "data": {
      "text/plain": "<Figure size 432x288 with 1 Axes>",
      "image/png": "[encoded data removed]"
     },
     "metadata": {
      "needs_background": "light"
     },
     "output_type": "display_data"
    }
   ],
   "source": [
    "#plt.scatter(X[:, 0], X[:,1], s = 100, c = kmeans.labels_)\n",
    "plt.scatter(kmeans.cluster_centers_[:, 0], kmeans.cluster_centers_[:, 1], s = 300, c = 'red',label = 'Centroids')\n",
    "plt.title('Iris Clusters and Centroids')\n",
    "plt.xlabel('SepalLength')\n",
    "plt.ylabel('SepalWidth')\n",
    "plt.legend()\n",
    "plt.show()"
   ],
   "metadata": {
    "collapsed": false,
    "pycharm": {
     "name": "#%%\n"
    }
   }
  },
  {
   "cell_type": "markdown",
   "source": [
    "# VERSÃO 2"
   ],
   "metadata": {
    "collapsed": false,
    "pycharm": {
     "name": "#%% md\n"
    }
   }
  },
  {
   "cell_type": "code",
   "execution_count": 301,
   "outputs": [
    {
     "data": {
      "text/plain": "KMeans(init='random', n_clusters=3)"
     },
     "execution_count": 301,
     "metadata": {},
     "output_type": "execute_result"
    }
   ],
   "source": [
    "clusters = KMeans(n_clusters = 3, init = 'random')\n",
    "dados = agrupados[['media_final','descricao']]\n",
    "clusters.fit(dados)\n"
   ],
   "metadata": {
    "collapsed": false,
    "pycharm": {
     "name": "#%%\n"
    }
   }
  },
  {
   "cell_type": "code",
   "execution_count": 302,
   "outputs": [
    {
     "data": {
      "text/plain": "2    270\n0    239\n1     73\ndtype: int64"
     },
     "execution_count": 302,
     "metadata": {},
     "output_type": "execute_result"
    }
   ],
   "source": [
    "s = pd.Series(clusters.labels_)\n",
    "s.value_counts()"
   ],
   "metadata": {
    "collapsed": false,
    "pycharm": {
     "name": "#%%\n"
    }
   }
  },
  {
   "cell_type": "code",
   "execution_count": 303,
   "outputs": [
    {
     "name": "stderr",
     "output_type": "stream",
     "text": [
      "/tmp/ipykernel_136017/1084416638.py:1: SettingWithCopyWarning: \n",
      "A value is trying to be set on a copy of a slice from a DataFrame.\n",
      "Try using .loc[row_indexer,col_indexer] = value instead\n",
      "\n",
      "See the caveats in the documentation: https://pandas.pydata.org/pandas-docs/stable/user_guide/indexing.html#returning-a-view-versus-a-copy\n",
      "  dados[\"classificacao\"] = s\n"
     ]
    }
   ],
   "source": [
    "dados[\"classificacao\"] = s"
   ],
   "metadata": {
    "collapsed": false,
    "pycharm": {
     "name": "#%%\n"
    }
   }
  },
  {
   "cell_type": "code",
   "execution_count": 308,
   "outputs": [
    {
     "data": {
      "text/plain": "     media_final  descricao  classificacao\n4       4.496657   0.474164              1\n9       4.921622   0.675676              1\n17      5.344309   0.841463              1\n20      6.293827   0.129630              1\n21      5.519718   0.549296              1\n..           ...        ...            ...\n547     6.193175   0.430267              1\n548     5.952837   0.607565              1\n553     5.121244   0.435233              1\n557     5.254717   0.622642              1\n564     6.336916   0.252336              1\n\n[73 rows x 3 columns]",
      "text/html": "<div>\n<style scoped>\n    .dataframe tbody tr th:only-of-type {\n        vertical-align: middle;\n    }\n\n    .dataframe tbody tr th {\n        vertical-align: top;\n    }\n\n    .dataframe thead th {\n        text-align: right;\n    }\n</style>\n<table border=\"1\" class=\"dataframe\">\n  <thead>\n    <tr style=\"text-align: right;\">\n      <th></th>\n      <th>media_final</th>\n      <th>descricao</th>\n      <th>classificacao</th>\n    </tr>\n  </thead>\n  <tbody>\n    <tr>\n      <th>4</th>\n      <td>4.496657</td>\n      <td>0.474164</td>\n      <td>1</td>\n    </tr>\n    <tr>\n      <th>9</th>\n      <td>4.921622</td>\n      <td>0.675676</td>\n      <td>1</td>\n    </tr>\n    <tr>\n      <th>17</th>\n      <td>5.344309</td>\n      <td>0.841463</td>\n      <td>1</td>\n    </tr>\n    <tr>\n      <th>20</th>\n      <td>6.293827</td>\n      <td>0.129630</td>\n      <td>1</td>\n    </tr>\n    <tr>\n      <th>21</th>\n      <td>5.519718</td>\n      <td>0.549296</td>\n      <td>1</td>\n    </tr>\n    <tr>\n      <th>...</th>\n      <td>...</td>\n      <td>...</td>\n      <td>...</td>\n    </tr>\n    <tr>\n      <th>547</th>\n      <td>6.193175</td>\n      <td>0.430267</td>\n      <td>1</td>\n    </tr>\n    <tr>\n      <th>548</th>\n      <td>5.952837</td>\n      <td>0.607565</td>\n      <td>1</td>\n    </tr>\n    <tr>\n      <th>553</th>\n      <td>5.121244</td>\n      <td>0.435233</td>\n      <td>1</td>\n    </tr>\n    <tr>\n      <th>557</th>\n      <td>5.254717</td>\n      <td>0.622642</td>\n      <td>1</td>\n    </tr>\n    <tr>\n      <th>564</th>\n      <td>6.336916</td>\n      <td>0.252336</td>\n      <td>1</td>\n    </tr>\n  </tbody>\n</table>\n<p>73 rows × 3 columns</p>\n</div>"
     },
     "execution_count": 308,
     "metadata": {},
     "output_type": "execute_result"
    }
   ],
   "source": [
    "dados.query(\"classificacao==1\")"
   ],
   "metadata": {
    "collapsed": false,
    "pycharm": {
     "name": "#%%\n"
    }
   }
  },
  {
   "cell_type": "code",
   "execution_count": 310,
   "outputs": [
    {
     "data": {
      "text/plain": "<Figure size 432x288 with 1 Axes>",
      "image/png": "[encoded data removed]"
     },
     "metadata": {
      "needs_background": "light"
     },
     "output_type": "display_data"
    }
   ],
   "source": [
    "plt.scatter(dados.classificacao, dados.media_final, c = clusters.labels_)\n",
    "plt.scatter(clusters.cluster_centers_[:, 0], clusters.cluster_centers_[:, 1], s = 300, c = 'red',label = 'Centroids')\n",
    "plt.title('Iris Clusters and Centroids')\n",
    "plt.xlabel('SepalLength')\n",
    "plt.ylabel('SepalWidth')\n",
    "plt.legend()\n",
    "plt.show()"
   ],
   "metadata": {
    "collapsed": false,
    "pycharm": {
     "name": "#%%\n"
    }
   }
  },
  {
   "cell_type": "code",
   "execution_count": 311,
   "outputs": [],
   "source": [
    "dados[\"docente\"] = agrupados[\"concat\"]"
   ],
   "metadata": {
    "collapsed": false,
    "pycharm": {
     "name": "#%%\n"
    }
   }
  },
  {
   "cell_type": "code",
   "execution_count": 315,
   "outputs": [
    {
     "data": {
      "text/plain": "     media_final  descricao  classificacao           docente\n0       8.195891   0.018626              2    Aarav Bernhard\n2       7.867213   0.000000              2    Adelia Kreiger\n5       8.843333   0.000000              2     Agatha Russel\n8       8.304185   0.028487              2     Agusta Turner\n11      8.619167   0.100000              2      Aldona Tromp\n..           ...        ...            ...               ...\n569     8.615602   0.016917              2       Vidal Wolff\n571     8.445368   0.012281              2       Virge Kunde\n572     8.464286   0.142857              2  Virge Wintheiser\n575     7.998182   0.309091              2       Wood Kuphal\n576     9.199563   0.034934              2       Yael Herzog\n\n[270 rows x 4 columns]",
      "text/html": "<div>\n<style scoped>\n    .dataframe tbody tr th:only-of-type {\n        vertical-align: middle;\n    }\n\n    .dataframe tbody tr th {\n        vertical-align: top;\n    }\n\n    .dataframe thead th {\n        text-align: right;\n    }\n</style>\n<table border=\"1\" class=\"dataframe\">\n  <thead>\n    <tr style=\"text-align: right;\">\n      <th></th>\n      <th>media_final</th>\n      <th>descricao</th>\n      <th>classificacao</th>\n      <th>docente</th>\n    </tr>\n  </thead>\n  <tbody>\n    <tr>\n      <th>0</th>\n      <td>8.195891</td>\n      <td>0.018626</td>\n      <td>2</td>\n      <td>Aarav Bernhard</td>\n    </tr>\n    <tr>\n      <th>2</th>\n      <td>7.867213</td>\n      <td>0.000000</td>\n      <td>2</td>\n      <td>Adelia Kreiger</td>\n    </tr>\n    <tr>\n      <th>5</th>\n      <td>8.843333</td>\n      <td>0.000000</td>\n      <td>2</td>\n      <td>Agatha Russel</td>\n    </tr>\n    <tr>\n      <th>8</th>\n      <td>8.304185</td>\n      <td>0.028487</td>\n      <td>2</td>\n      <td>Agusta Turner</td>\n    </tr>\n    <tr>\n      <th>11</th>\n      <td>8.619167</td>\n      <td>0.100000</td>\n      <td>2</td>\n      <td>Aldona Tromp</td>\n    </tr>\n    <tr>\n      <th>...</th>\n      <td>...</td>\n      <td>...</td>\n      <td>...</td>\n      <td>...</td>\n    </tr>\n    <tr>\n      <th>569</th>\n      <td>8.615602</td>\n      <td>0.016917</td>\n      <td>2</td>\n      <td>Vidal Wolff</td>\n    </tr>\n    <tr>\n      <th>571</th>\n      <td>8.445368</td>\n      <td>0.012281</td>\n      <td>2</td>\n      <td>Virge Kunde</td>\n    </tr>\n    <tr>\n      <th>572</th>\n      <td>8.464286</td>\n      <td>0.142857</td>\n      <td>2</td>\n      <td>Virge Wintheiser</td>\n    </tr>\n    <tr>\n      <th>575</th>\n      <td>7.998182</td>\n      <td>0.309091</td>\n      <td>2</td>\n      <td>Wood Kuphal</td>\n    </tr>\n    <tr>\n      <th>576</th>\n      <td>9.199563</td>\n      <td>0.034934</td>\n      <td>2</td>\n      <td>Yael Herzog</td>\n    </tr>\n  </tbody>\n</table>\n<p>270 rows × 4 columns</p>\n</div>"
     },
     "execution_count": 315,
     "metadata": {},
     "output_type": "execute_result"
    }
   ],
   "source": [
    "dados.query(\"classificacao==2\")"
   ],
   "metadata": {
    "collapsed": false,
    "pycharm": {
     "name": "#%%\n"
    }
   }
  },
  {
   "cell_type": "code",
   "execution_count": null,
   "outputs": [],
   "source": [],
   "metadata": {
    "collapsed": false,
    "pycharm": {
     "name": "#%%\n"
    }
   }
  }
 ],
 "metadata": {
  "kernelspec": {
   "display_name": "Python 3",
   "language": "python",
   "name": "python3"
  },
  "language_info": {
   "codemirror_mode": {
    "name": "ipython",
    "version": 2
   },
   "file_extension": ".py",
   "mimetype": "text/x-python",
   "name": "python",
   "nbconvert_exporter": "python",
   "pygments_lexer": "ipython2",
   "version": "2.7.6"
  }
 },
 "nbformat": 4,
 "nbformat_minor": 0
}