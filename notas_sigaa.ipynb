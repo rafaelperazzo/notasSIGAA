{
 "cells": [
  {
   "cell_type": "code",
   "execution_count": 218,
   "metadata": {
    "collapsed": true,
    "pycharm": {
     "name": "#%%\n"
    }
   },
   "outputs": [],
   "source": [
    "import pandas as pd\n",
    "from sklearn.cluster import KMeans\n",
    "from sklearn import preprocessing\n",
    "import pylab as plt"
   ]
  },
  {
   "cell_type": "code",
   "execution_count": 219,
   "outputs": [
    {
     "data": {
      "text/plain": "        noise   matricula  id_turma  \\\n0         500  2635915545       438   \n1         443  2188096962       447   \n2         485  2084846937       440   \n3         404  1773301533       442   \n4         453  2098470832       446   \n...       ...         ...       ...   \n354896  11203  2536402992     17580   \n354897  11374  2567259177     18020   \n354898  12356  1792060888     18019   \n354899  12588  2273057259     18018   \n354900  11063  1459336115     18017   \n\n                                                     nome    siape  \\\n0                        ELABORAÇÃO DE PROJETOS CULTURAIS  1314589   \n1                      METODOLOGIA DO TRABALHO CIENTÍFICO  2485385   \n2                         ESTUDO DE MERCADO INFORMACIONAL  2687965   \n3                      FUNDAMENTOS TEÓRICOS DA INFORMAÇÃO  2960275   \n4       MEMÓRIA ORGANIZACIONAL: ASPECTOS TÉCNICOS E PR...  1862817   \n...                                                   ...      ...   \n354896              ESTUDOS SOCIOLÓGICOS E ANTROPOLÓGICOS  1280285   \n354897                             INTRODUCAO A FILOSOFIA  1526217   \n354898                            ANTROPOLOGIA FILOSOFICA  1742202   \n354899                                           LOGICA I  1271204   \n354900                   LEITURA DE TEXTOS PRE-SOCRATICOS  1125746   \n\n                      concat  id_situacao_matricula descricao  media_final  \n0          Refugio Schneider                      4  APROVADO          8.0  \n1             Ammon Schmeler                      4  APROVADO         10.0  \n2              Silvia Willms                      4  APROVADO          9.5  \n3              Silvia Willms                      4  APROVADO          9.5  \n4                Kalie Bosco                      4  APROVADO          8.5  \n...                      ...                    ...       ...          ...  \n354896           Gena Nienow                      4  APROVADO          8.8  \n354897        Allena Pacocha                      4  APROVADO          9.5  \n354898          Aiyana Brown                      4  APROVADO         10.0  \n354899          Melinda Jast                      4  APROVADO          7.0  \n354900  Mordechai Bartoletti                      4  APROVADO         10.0  \n\n[354901 rows x 9 columns]",
      "text/html": "<div>\n<style scoped>\n    .dataframe tbody tr th:only-of-type {\n        vertical-align: middle;\n    }\n\n    .dataframe tbody tr th {\n        vertical-align: top;\n    }\n\n    .dataframe thead th {\n        text-align: right;\n    }\n</style>\n<table border=\"1\" class=\"dataframe\">\n  <thead>\n    <tr style=\"text-align: right;\">\n      <th></th>\n      <th>noise</th>\n      <th>matricula</th>\n      <th>id_turma</th>\n      <th>nome</th>\n      <th>siape</th>\n      <th>concat</th>\n      <th>id_situacao_matricula</th>\n      <th>descricao</th>\n      <th>media_final</th>\n    </tr>\n  </thead>\n  <tbody>\n    <tr>\n      <th>0</th>\n      <td>500</td>\n      <td>2635915545</td>\n      <td>438</td>\n      <td>ELABORAÇÃO DE PROJETOS CULTURAIS</td>\n      <td>1314589</td>\n      <td>Refugio Schneider</td>\n      <td>4</td>\n      <td>APROVADO</td>\n      <td>8.0</td>\n    </tr>\n    <tr>\n      <th>1</th>\n      <td>443</td>\n      <td>2188096962</td>\n      <td>447</td>\n      <td>METODOLOGIA DO TRABALHO CIENTÍFICO</td>\n      <td>2485385</td>\n      <td>Ammon Schmeler</td>\n      <td>4</td>\n      <td>APROVADO</td>\n      <td>10.0</td>\n    </tr>\n    <tr>\n      <th>2</th>\n      <td>485</td>\n      <td>2084846937</td>\n      <td>440</td>\n      <td>ESTUDO DE MERCADO INFORMACIONAL</td>\n      <td>2687965</td>\n      <td>Silvia Willms</td>\n      <td>4</td>\n      <td>APROVADO</td>\n      <td>9.5</td>\n    </tr>\n    <tr>\n      <th>3</th>\n      <td>404</td>\n      <td>1773301533</td>\n      <td>442</td>\n      <td>FUNDAMENTOS TEÓRICOS DA INFORMAÇÃO</td>\n      <td>2960275</td>\n      <td>Silvia Willms</td>\n      <td>4</td>\n      <td>APROVADO</td>\n      <td>9.5</td>\n    </tr>\n    <tr>\n      <th>4</th>\n      <td>453</td>\n      <td>2098470832</td>\n      <td>446</td>\n      <td>MEMÓRIA ORGANIZACIONAL: ASPECTOS TÉCNICOS E PR...</td>\n      <td>1862817</td>\n      <td>Kalie Bosco</td>\n      <td>4</td>\n      <td>APROVADO</td>\n      <td>8.5</td>\n    </tr>\n    <tr>\n      <th>...</th>\n      <td>...</td>\n      <td>...</td>\n      <td>...</td>\n      <td>...</td>\n      <td>...</td>\n      <td>...</td>\n      <td>...</td>\n      <td>...</td>\n      <td>...</td>\n    </tr>\n    <tr>\n      <th>354896</th>\n      <td>11203</td>\n      <td>2536402992</td>\n      <td>17580</td>\n      <td>ESTUDOS SOCIOLÓGICOS E ANTROPOLÓGICOS</td>\n      <td>1280285</td>\n      <td>Gena Nienow</td>\n      <td>4</td>\n      <td>APROVADO</td>\n      <td>8.8</td>\n    </tr>\n    <tr>\n      <th>354897</th>\n      <td>11374</td>\n      <td>2567259177</td>\n      <td>18020</td>\n      <td>INTRODUCAO A FILOSOFIA</td>\n      <td>1526217</td>\n      <td>Allena Pacocha</td>\n      <td>4</td>\n      <td>APROVADO</td>\n      <td>9.5</td>\n    </tr>\n    <tr>\n      <th>354898</th>\n      <td>12356</td>\n      <td>1792060888</td>\n      <td>18019</td>\n      <td>ANTROPOLOGIA FILOSOFICA</td>\n      <td>1742202</td>\n      <td>Aiyana Brown</td>\n      <td>4</td>\n      <td>APROVADO</td>\n      <td>10.0</td>\n    </tr>\n    <tr>\n      <th>354899</th>\n      <td>12588</td>\n      <td>2273057259</td>\n      <td>18018</td>\n      <td>LOGICA I</td>\n      <td>1271204</td>\n      <td>Melinda Jast</td>\n      <td>4</td>\n      <td>APROVADO</td>\n      <td>7.0</td>\n    </tr>\n    <tr>\n      <th>354900</th>\n      <td>11063</td>\n      <td>1459336115</td>\n      <td>18017</td>\n      <td>LEITURA DE TEXTOS PRE-SOCRATICOS</td>\n      <td>1125746</td>\n      <td>Mordechai Bartoletti</td>\n      <td>4</td>\n      <td>APROVADO</td>\n      <td>10.0</td>\n    </tr>\n  </tbody>\n</table>\n<p>354901 rows × 9 columns</p>\n</div>"
     },
     "execution_count": 219,
     "metadata": {},
     "output_type": "execute_result"
    }
   ],
   "source": [
    "df = pd.read_csv('notas.csv',sep=';')\n",
    "df"
   ],
   "metadata": {
    "collapsed": false,
    "pycharm": {
     "name": "#%%\n"
    }
   }
  },
  {
   "cell_type": "code",
   "execution_count": 220,
   "outputs": [
    {
     "data": {
      "text/plain": "array(['APROVADO', 'REPROVADO', 'REPROVADO POR MÉDIA E POR FALTAS',\n       'REPROVADO POR FALTAS'], dtype=object)"
     },
     "execution_count": 220,
     "metadata": {},
     "output_type": "execute_result"
    }
   ],
   "source": [
    "df.descricao.unique()"
   ],
   "metadata": {
    "collapsed": false,
    "pycharm": {
     "name": "#%%\n"
    }
   }
  },
  {
   "cell_type": "code",
   "execution_count": 221,
   "outputs": [],
   "source": [
    "leFe = preprocessing.LabelEncoder()\n",
    "leFe.fit(df['concat'])\n",
    "leFe.transform(df['concat'])\n",
    "df['concat'] = leFe.transform(df['concat'])\n",
    "leFe.fit(df['descricao'])\n",
    "leFe.transform(df['descricao'])\n",
    "df['descricao'] = leFe.transform(df['descricao'])"
   ],
   "metadata": {
    "collapsed": false,
    "pycharm": {
     "name": "#%%\n"
    }
   }
  },
  {
   "cell_type": "code",
   "execution_count": 222,
   "outputs": [],
   "source": [
    "X = df[[\"concat\", \"media_final\",\"descricao\"]]\n"
   ],
   "metadata": {
    "collapsed": false,
    "pycharm": {
     "name": "#%%\n"
    }
   }
  },
  {
   "cell_type": "code",
   "execution_count": 223,
   "outputs": [
    {
     "data": {
      "text/plain": "        concat  media_final  descricao\n0          479          8.0          0\n1           24         10.0          0\n2          522          9.5          0\n3          522          9.5          0\n4          312          8.5          0\n...        ...          ...        ...\n354896     209          8.8          0\n354897      15          9.5          0\n354898      10         10.0          0\n354899     405          7.0          0\n354900     421         10.0          0\n\n[354901 rows x 3 columns]",
      "text/html": "<div>\n<style scoped>\n    .dataframe tbody tr th:only-of-type {\n        vertical-align: middle;\n    }\n\n    .dataframe tbody tr th {\n        vertical-align: top;\n    }\n\n    .dataframe thead th {\n        text-align: right;\n    }\n</style>\n<table border=\"1\" class=\"dataframe\">\n  <thead>\n    <tr style=\"text-align: right;\">\n      <th></th>\n      <th>concat</th>\n      <th>media_final</th>\n      <th>descricao</th>\n    </tr>\n  </thead>\n  <tbody>\n    <tr>\n      <th>0</th>\n      <td>479</td>\n      <td>8.0</td>\n      <td>0</td>\n    </tr>\n    <tr>\n      <th>1</th>\n      <td>24</td>\n      <td>10.0</td>\n      <td>0</td>\n    </tr>\n    <tr>\n      <th>2</th>\n      <td>522</td>\n      <td>9.5</td>\n      <td>0</td>\n    </tr>\n    <tr>\n      <th>3</th>\n      <td>522</td>\n      <td>9.5</td>\n      <td>0</td>\n    </tr>\n    <tr>\n      <th>4</th>\n      <td>312</td>\n      <td>8.5</td>\n      <td>0</td>\n    </tr>\n    <tr>\n      <th>...</th>\n      <td>...</td>\n      <td>...</td>\n      <td>...</td>\n    </tr>\n    <tr>\n      <th>354896</th>\n      <td>209</td>\n      <td>8.8</td>\n      <td>0</td>\n    </tr>\n    <tr>\n      <th>354897</th>\n      <td>15</td>\n      <td>9.5</td>\n      <td>0</td>\n    </tr>\n    <tr>\n      <th>354898</th>\n      <td>10</td>\n      <td>10.0</td>\n      <td>0</td>\n    </tr>\n    <tr>\n      <th>354899</th>\n      <td>405</td>\n      <td>7.0</td>\n      <td>0</td>\n    </tr>\n    <tr>\n      <th>354900</th>\n      <td>421</td>\n      <td>10.0</td>\n      <td>0</td>\n    </tr>\n  </tbody>\n</table>\n<p>354901 rows × 3 columns</p>\n</div>"
     },
     "execution_count": 223,
     "metadata": {},
     "output_type": "execute_result"
    }
   ],
   "source": [
    "X = X.fillna(0).copy()\n",
    "X"
   ],
   "metadata": {
    "collapsed": false,
    "pycharm": {
     "name": "#%%\n"
    }
   }
  },
  {
   "cell_type": "code",
   "execution_count": 224,
   "outputs": [],
   "source": [
    "kmeans = KMeans(n_clusters=2, init='random').fit(X)"
   ],
   "metadata": {
    "collapsed": false,
    "pycharm": {
     "name": "#%%\n"
    }
   }
  },
  {
   "cell_type": "code",
   "execution_count": 225,
   "outputs": [
    {
     "data": {
      "text/plain": "array([1, 0, 1, ..., 0, 1, 1], dtype=int32)"
     },
     "execution_count": 225,
     "metadata": {},
     "output_type": "execute_result"
    }
   ],
   "source": [
    "s = pd.Series(kmeans.labels_)\n",
    "s.value_counts()\n",
    "kmeans.labels_"
   ],
   "metadata": {
    "collapsed": false,
    "pycharm": {
     "name": "#%%\n"
    }
   }
  },
  {
   "cell_type": "code",
   "execution_count": 228,
   "outputs": [
    {
     "data": {
      "text/plain": "        concat  media_final  descricao  resposta\n0          479          8.0          0         1\n1           24         10.0          0         0\n2          522          9.5          0         1\n3          522          9.5          0         1\n4          312          8.5          0         1\n...        ...          ...        ...       ...\n354896     209          8.8          0         0\n354897      15          9.5          0         0\n354898      10         10.0          0         0\n354899     405          7.0          0         1\n354900     421         10.0          0         1\n\n[354901 rows x 4 columns]",
      "text/html": "<div>\n<style scoped>\n    .dataframe tbody tr th:only-of-type {\n        vertical-align: middle;\n    }\n\n    .dataframe tbody tr th {\n        vertical-align: top;\n    }\n\n    .dataframe thead th {\n        text-align: right;\n    }\n</style>\n<table border=\"1\" class=\"dataframe\">\n  <thead>\n    <tr style=\"text-align: right;\">\n      <th></th>\n      <th>concat</th>\n      <th>media_final</th>\n      <th>descricao</th>\n      <th>resposta</th>\n    </tr>\n  </thead>\n  <tbody>\n    <tr>\n      <th>0</th>\n      <td>479</td>\n      <td>8.0</td>\n      <td>0</td>\n      <td>1</td>\n    </tr>\n    <tr>\n      <th>1</th>\n      <td>24</td>\n      <td>10.0</td>\n      <td>0</td>\n      <td>0</td>\n    </tr>\n    <tr>\n      <th>2</th>\n      <td>522</td>\n      <td>9.5</td>\n      <td>0</td>\n      <td>1</td>\n    </tr>\n    <tr>\n      <th>3</th>\n      <td>522</td>\n      <td>9.5</td>\n      <td>0</td>\n      <td>1</td>\n    </tr>\n    <tr>\n      <th>4</th>\n      <td>312</td>\n      <td>8.5</td>\n      <td>0</td>\n      <td>1</td>\n    </tr>\n    <tr>\n      <th>...</th>\n      <td>...</td>\n      <td>...</td>\n      <td>...</td>\n      <td>...</td>\n    </tr>\n    <tr>\n      <th>354896</th>\n      <td>209</td>\n      <td>8.8</td>\n      <td>0</td>\n      <td>0</td>\n    </tr>\n    <tr>\n      <th>354897</th>\n      <td>15</td>\n      <td>9.5</td>\n      <td>0</td>\n      <td>0</td>\n    </tr>\n    <tr>\n      <th>354898</th>\n      <td>10</td>\n      <td>10.0</td>\n      <td>0</td>\n      <td>0</td>\n    </tr>\n    <tr>\n      <th>354899</th>\n      <td>405</td>\n      <td>7.0</td>\n      <td>0</td>\n      <td>1</td>\n    </tr>\n    <tr>\n      <th>354900</th>\n      <td>421</td>\n      <td>10.0</td>\n      <td>0</td>\n      <td>1</td>\n    </tr>\n  </tbody>\n</table>\n<p>354901 rows × 4 columns</p>\n</div>"
     },
     "execution_count": 228,
     "metadata": {},
     "output_type": "execute_result"
    }
   ],
   "source": [
    "X[\"resposta\"] = s\n",
    "#X.concat = leFe.inverse_transform(X.concat)\n",
    "#X.descricao = leFe.inverse_transform(X.descricao)\n",
    "X"
   ],
   "metadata": {
    "collapsed": false,
    "pycharm": {
     "name": "#%%\n"
    }
   }
  },
  {
   "cell_type": "code",
   "execution_count": 244,
   "outputs": [
    {
     "data": {
      "text/plain": "        concat  media_final  descricao  resposta\n9528       143          0.0          1         0\n9677       143          0.0          1         0\n9796       143          0.0          1         0\n9805       143          0.0          1         0\n10019      143          7.9          0         0\n...        ...          ...        ...       ...\n322466     143          8.8          0         0\n322868     143          0.0          1         0\n323010     143          9.3          0         0\n323443     143          0.0          1         0\n323577     143          0.0          1         0\n\n[95 rows x 4 columns]",
      "text/html": "<div>\n<style scoped>\n    .dataframe tbody tr th:only-of-type {\n        vertical-align: middle;\n    }\n\n    .dataframe tbody tr th {\n        vertical-align: top;\n    }\n\n    .dataframe thead th {\n        text-align: right;\n    }\n</style>\n<table border=\"1\" class=\"dataframe\">\n  <thead>\n    <tr style=\"text-align: right;\">\n      <th></th>\n      <th>concat</th>\n      <th>media_final</th>\n      <th>descricao</th>\n      <th>resposta</th>\n    </tr>\n  </thead>\n  <tbody>\n    <tr>\n      <th>9528</th>\n      <td>143</td>\n      <td>0.0</td>\n      <td>1</td>\n      <td>0</td>\n    </tr>\n    <tr>\n      <th>9677</th>\n      <td>143</td>\n      <td>0.0</td>\n      <td>1</td>\n      <td>0</td>\n    </tr>\n    <tr>\n      <th>9796</th>\n      <td>143</td>\n      <td>0.0</td>\n      <td>1</td>\n      <td>0</td>\n    </tr>\n    <tr>\n      <th>9805</th>\n      <td>143</td>\n      <td>0.0</td>\n      <td>1</td>\n      <td>0</td>\n    </tr>\n    <tr>\n      <th>10019</th>\n      <td>143</td>\n      <td>7.9</td>\n      <td>0</td>\n      <td>0</td>\n    </tr>\n    <tr>\n      <th>...</th>\n      <td>...</td>\n      <td>...</td>\n      <td>...</td>\n      <td>...</td>\n    </tr>\n    <tr>\n      <th>322466</th>\n      <td>143</td>\n      <td>8.8</td>\n      <td>0</td>\n      <td>0</td>\n    </tr>\n    <tr>\n      <th>322868</th>\n      <td>143</td>\n      <td>0.0</td>\n      <td>1</td>\n      <td>0</td>\n    </tr>\n    <tr>\n      <th>323010</th>\n      <td>143</td>\n      <td>9.3</td>\n      <td>0</td>\n      <td>0</td>\n    </tr>\n    <tr>\n      <th>323443</th>\n      <td>143</td>\n      <td>0.0</td>\n      <td>1</td>\n      <td>0</td>\n    </tr>\n    <tr>\n      <th>323577</th>\n      <td>143</td>\n      <td>0.0</td>\n      <td>1</td>\n      <td>0</td>\n    </tr>\n  </tbody>\n</table>\n<p>95 rows × 4 columns</p>\n</div>"
     },
     "execution_count": 244,
     "metadata": {},
     "output_type": "execute_result"
    }
   ],
   "source": [
    "X.query(\"concat==143\")"
   ],
   "metadata": {
    "collapsed": false,
    "pycharm": {
     "name": "#%%\n"
    }
   }
  },
  {
   "cell_type": "code",
   "execution_count": 229,
   "outputs": [
    {
     "data": {
      "text/plain": "        media_final  descricao  resposta\nconcat                                  \n0          8.195891   0.018626         0\n1          6.830220   0.461538         0\n2          7.867213   0.000000         0\n3          7.390865   0.110577         0\n4          4.496657   0.474164         0\n...             ...        ...       ...\n577        7.606103   0.045845         1\n578        7.386353   0.217391         1\n579        7.610274   0.383562         1\n580        7.700000   0.064401         1\n581        7.575000   0.050000         1\n\n[582 rows x 3 columns]",
      "text/html": "<div>\n<style scoped>\n    .dataframe tbody tr th:only-of-type {\n        vertical-align: middle;\n    }\n\n    .dataframe tbody tr th {\n        vertical-align: top;\n    }\n\n    .dataframe thead th {\n        text-align: right;\n    }\n</style>\n<table border=\"1\" class=\"dataframe\">\n  <thead>\n    <tr style=\"text-align: right;\">\n      <th></th>\n      <th>media_final</th>\n      <th>descricao</th>\n      <th>resposta</th>\n    </tr>\n    <tr>\n      <th>concat</th>\n      <th></th>\n      <th></th>\n      <th></th>\n    </tr>\n  </thead>\n  <tbody>\n    <tr>\n      <th>0</th>\n      <td>8.195891</td>\n      <td>0.018626</td>\n      <td>0</td>\n    </tr>\n    <tr>\n      <th>1</th>\n      <td>6.830220</td>\n      <td>0.461538</td>\n      <td>0</td>\n    </tr>\n    <tr>\n      <th>2</th>\n      <td>7.867213</td>\n      <td>0.000000</td>\n      <td>0</td>\n    </tr>\n    <tr>\n      <th>3</th>\n      <td>7.390865</td>\n      <td>0.110577</td>\n      <td>0</td>\n    </tr>\n    <tr>\n      <th>4</th>\n      <td>4.496657</td>\n      <td>0.474164</td>\n      <td>0</td>\n    </tr>\n    <tr>\n      <th>...</th>\n      <td>...</td>\n      <td>...</td>\n      <td>...</td>\n    </tr>\n    <tr>\n      <th>577</th>\n      <td>7.606103</td>\n      <td>0.045845</td>\n      <td>1</td>\n    </tr>\n    <tr>\n      <th>578</th>\n      <td>7.386353</td>\n      <td>0.217391</td>\n      <td>1</td>\n    </tr>\n    <tr>\n      <th>579</th>\n      <td>7.610274</td>\n      <td>0.383562</td>\n      <td>1</td>\n    </tr>\n    <tr>\n      <th>580</th>\n      <td>7.700000</td>\n      <td>0.064401</td>\n      <td>1</td>\n    </tr>\n    <tr>\n      <th>581</th>\n      <td>7.575000</td>\n      <td>0.050000</td>\n      <td>1</td>\n    </tr>\n  </tbody>\n</table>\n<p>582 rows × 3 columns</p>\n</div>"
     },
     "execution_count": 229,
     "metadata": {},
     "output_type": "execute_result"
    }
   ],
   "source": [
    "agrupados = X.groupby('concat').mean()\n",
    "agrupados"
   ],
   "metadata": {
    "collapsed": false,
    "pycharm": {
     "name": "#%%\n"
    }
   }
  },
  {
   "cell_type": "code",
   "execution_count": 240,
   "outputs": [
    {
     "data": {
      "text/plain": "        media_final  descricao  resposta\nconcat                                  \n295        8.193673   0.090784         1\n296        8.258490   0.011236         1\n299        8.586232   0.028986         1\n301        8.580342   0.051282         1\n302        7.705596   0.215328         1\n...             ...        ...       ...\n577        7.606103   0.045845         1\n578        7.386353   0.217391         1\n579        7.610274   0.383562         1\n580        7.700000   0.064401         1\n581        7.575000   0.050000         1\n\n[226 rows x 3 columns]",
      "text/html": "<div>\n<style scoped>\n    .dataframe tbody tr th:only-of-type {\n        vertical-align: middle;\n    }\n\n    .dataframe tbody tr th {\n        vertical-align: top;\n    }\n\n    .dataframe thead th {\n        text-align: right;\n    }\n</style>\n<table border=\"1\" class=\"dataframe\">\n  <thead>\n    <tr style=\"text-align: right;\">\n      <th></th>\n      <th>media_final</th>\n      <th>descricao</th>\n      <th>resposta</th>\n    </tr>\n    <tr>\n      <th>concat</th>\n      <th></th>\n      <th></th>\n      <th></th>\n    </tr>\n  </thead>\n  <tbody>\n    <tr>\n      <th>295</th>\n      <td>8.193673</td>\n      <td>0.090784</td>\n      <td>1</td>\n    </tr>\n    <tr>\n      <th>296</th>\n      <td>8.258490</td>\n      <td>0.011236</td>\n      <td>1</td>\n    </tr>\n    <tr>\n      <th>299</th>\n      <td>8.586232</td>\n      <td>0.028986</td>\n      <td>1</td>\n    </tr>\n    <tr>\n      <th>301</th>\n      <td>8.580342</td>\n      <td>0.051282</td>\n      <td>1</td>\n    </tr>\n    <tr>\n      <th>302</th>\n      <td>7.705596</td>\n      <td>0.215328</td>\n      <td>1</td>\n    </tr>\n    <tr>\n      <th>...</th>\n      <td>...</td>\n      <td>...</td>\n      <td>...</td>\n    </tr>\n    <tr>\n      <th>577</th>\n      <td>7.606103</td>\n      <td>0.045845</td>\n      <td>1</td>\n    </tr>\n    <tr>\n      <th>578</th>\n      <td>7.386353</td>\n      <td>0.217391</td>\n      <td>1</td>\n    </tr>\n    <tr>\n      <th>579</th>\n      <td>7.610274</td>\n      <td>0.383562</td>\n      <td>1</td>\n    </tr>\n    <tr>\n      <th>580</th>\n      <td>7.700000</td>\n      <td>0.064401</td>\n      <td>1</td>\n    </tr>\n    <tr>\n      <th>581</th>\n      <td>7.575000</td>\n      <td>0.050000</td>\n      <td>1</td>\n    </tr>\n  </tbody>\n</table>\n<p>226 rows × 3 columns</p>\n</div>"
     },
     "execution_count": 240,
     "metadata": {},
     "output_type": "execute_result"
    }
   ],
   "source": [
    "agrupados.query(\"resposta==1 and media_final>7\")"
   ],
   "metadata": {
    "collapsed": false,
    "pycharm": {
     "name": "#%%\n"
    }
   }
  },
  {
   "cell_type": "code",
   "execution_count": 241,
   "outputs": [],
   "source": [
    "agrupados[\"id\"] = agrupados.index"
   ],
   "metadata": {
    "collapsed": false,
    "pycharm": {
     "name": "#%%\n"
    }
   }
  },
  {
   "cell_type": "code",
   "execution_count": 242,
   "outputs": [
    {
     "data": {
      "text/plain": "        media_final  descricao  resposta   id\nconcat                                       \n0          8.195891   0.018626         0    0\n1          6.830220   0.461538         0    1\n2          7.867213   0.000000         0    2\n3          7.390865   0.110577         0    3\n4          4.496657   0.474164         0    4\n...             ...        ...       ...  ...\n577        7.606103   0.045845         1  577\n578        7.386353   0.217391         1  578\n579        7.610274   0.383562         1  579\n580        7.700000   0.064401         1  580\n581        7.575000   0.050000         1  581\n\n[582 rows x 4 columns]",
      "text/html": "<div>\n<style scoped>\n    .dataframe tbody tr th:only-of-type {\n        vertical-align: middle;\n    }\n\n    .dataframe tbody tr th {\n        vertical-align: top;\n    }\n\n    .dataframe thead th {\n        text-align: right;\n    }\n</style>\n<table border=\"1\" class=\"dataframe\">\n  <thead>\n    <tr style=\"text-align: right;\">\n      <th></th>\n      <th>media_final</th>\n      <th>descricao</th>\n      <th>resposta</th>\n      <th>id</th>\n    </tr>\n    <tr>\n      <th>concat</th>\n      <th></th>\n      <th></th>\n      <th></th>\n      <th></th>\n    </tr>\n  </thead>\n  <tbody>\n    <tr>\n      <th>0</th>\n      <td>8.195891</td>\n      <td>0.018626</td>\n      <td>0</td>\n      <td>0</td>\n    </tr>\n    <tr>\n      <th>1</th>\n      <td>6.830220</td>\n      <td>0.461538</td>\n      <td>0</td>\n      <td>1</td>\n    </tr>\n    <tr>\n      <th>2</th>\n      <td>7.867213</td>\n      <td>0.000000</td>\n      <td>0</td>\n      <td>2</td>\n    </tr>\n    <tr>\n      <th>3</th>\n      <td>7.390865</td>\n      <td>0.110577</td>\n      <td>0</td>\n      <td>3</td>\n    </tr>\n    <tr>\n      <th>4</th>\n      <td>4.496657</td>\n      <td>0.474164</td>\n      <td>0</td>\n      <td>4</td>\n    </tr>\n    <tr>\n      <th>...</th>\n      <td>...</td>\n      <td>...</td>\n      <td>...</td>\n      <td>...</td>\n    </tr>\n    <tr>\n      <th>577</th>\n      <td>7.606103</td>\n      <td>0.045845</td>\n      <td>1</td>\n      <td>577</td>\n    </tr>\n    <tr>\n      <th>578</th>\n      <td>7.386353</td>\n      <td>0.217391</td>\n      <td>1</td>\n      <td>578</td>\n    </tr>\n    <tr>\n      <th>579</th>\n      <td>7.610274</td>\n      <td>0.383562</td>\n      <td>1</td>\n      <td>579</td>\n    </tr>\n    <tr>\n      <th>580</th>\n      <td>7.700000</td>\n      <td>0.064401</td>\n      <td>1</td>\n      <td>580</td>\n    </tr>\n    <tr>\n      <th>581</th>\n      <td>7.575000</td>\n      <td>0.050000</td>\n      <td>1</td>\n      <td>581</td>\n    </tr>\n  </tbody>\n</table>\n<p>582 rows × 4 columns</p>\n</div>"
     },
     "execution_count": 242,
     "metadata": {},
     "output_type": "execute_result"
    }
   ],
   "source": [
    "agrupados"
   ],
   "metadata": {
    "collapsed": false,
    "pycharm": {
     "name": "#%%\n"
    }
   }
  },
  {
   "cell_type": "code",
   "execution_count": null,
   "outputs": [],
   "source": [],
   "metadata": {
    "collapsed": false,
    "pycharm": {
     "name": "#%%\n"
    }
   }
  }
 ],
 "metadata": {
  "kernelspec": {
   "display_name": "Python 3",
   "language": "python",
   "name": "python3"
  },
  "language_info": {
   "codemirror_mode": {
    "name": "ipython",
    "version": 2
   },
   "file_extension": ".py",
   "mimetype": "text/x-python",
   "name": "python",
   "nbconvert_exporter": "python",
   "pygments_lexer": "ipython2",
   "version": "2.7.6"
  }
 },
 "nbformat": 4,
 "nbformat_minor": 0
}